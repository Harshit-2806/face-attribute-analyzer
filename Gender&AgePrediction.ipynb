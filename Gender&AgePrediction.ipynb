{
 "cells": [
  {
   "cell_type": "code",
   "execution_count": 12,
   "id": "d23b947f-2e2c-44ee-96a7-a1d4a35881b2",
   "metadata": {},
   "outputs": [],
   "source": [
    "import os\n",
    "import cv2\n",
    "import pandas as pd\n",
    "from deepface import DeepFace\n"
   ]
  },
  {
   "cell_type": "code",
   "execution_count": 15,
   "id": "0b68b011-2311-4f94-9e4c-ee46f5149ba4",
   "metadata": {},
   "outputs": [
    {
     "name": "stderr",
     "output_type": "stream",
     "text": [
      "Action: race: 100%|██████████| 3/3 [00:00<00:00,  3.86it/s]  \n",
      "Action: race: 100%|██████████| 3/3 [00:00<00:00,  4.48it/s]  \n",
      "Action: race: 100%|██████████| 3/3 [00:00<00:00,  4.55it/s]  \n",
      "Action: race: 100%|██████████| 3/3 [00:00<00:00,  4.94it/s]  \n",
      "Action: race: 100%|██████████| 3/3 [00:00<00:00,  4.24it/s]  \n",
      "Action: race: 100%|██████████| 3/3 [00:00<00:00,  4.63it/s]  \n",
      "Action: race: 100%|██████████| 3/3 [00:06<00:00,  2.17s/it]  \n",
      "Action: race: 100%|██████████| 3/3 [00:00<00:00,  4.05it/s]  "
     ]
    },
    {
     "name": "stdout",
     "output_type": "stream",
     "text": [
      "       Name  Age Gender            Race\n",
      "0    Akshay   38    Man           white\n",
      "1     Carol   24  Woman           white\n",
      "2    Hritik   33    Man  middle eastern\n",
      "3    Johnny   27    Man           white\n",
      "4   Kareena   32  Woman  middle eastern\n",
      "5  Scarlett   31  Woman           white\n",
      "6       Tom   28    Man           white\n",
      "7      Tony   44    Man  middle eastern\n"
     ]
    },
    {
     "name": "stderr",
     "output_type": "stream",
     "text": [
      "\n"
     ]
    }
   ],
   "source": [
    "data = {\n",
    "    \"Name\":[],\n",
    "    \"Age\": [],\n",
    "    \"Gender\": [],\n",
    "    \"Race\": []\n",
    "}\n",
    "for file in os.listdir(\"Faces\"):\n",
    "    result = DeepFace.analyze(cv2.imread(f\"Faces/{file}\"), actions=(\"age\" , \"gender\",\"race\"))\n",
    "    data[\"Name\"].append(file.split(\".\")[0])\n",
    "    data[\"Age\"].append(result[0][\"age\"])\n",
    "    data[\"Gender\"].append(result[0][\"dominant_gender\"])\n",
    "    data[\"Race\"].append(result[0][\"dominant_race\"])\n",
    "df = pd.DataFrame(data)\n",
    "print(df)\n",
    "df.to_csv(\"people.csv\")\n",
    "\n",
    "\n",
    "\n",
    "\n",
    "\n"
   ]
  },
  {
   "cell_type": "code",
   "execution_count": null,
   "id": "3286fe50-740e-48a0-ba22-1c1f3529b4c5",
   "metadata": {},
   "outputs": [],
   "source": []
  }
 ],
 "metadata": {
  "kernelspec": {
   "display_name": "Python (tf_env)",
   "language": "python",
   "name": "tf_env"
  },
  "language_info": {
   "codemirror_mode": {
    "name": "ipython",
    "version": 3
   },
   "file_extension": ".py",
   "mimetype": "text/x-python",
   "name": "python",
   "nbconvert_exporter": "python",
   "pygments_lexer": "ipython3",
   "version": "3.10.16"
  }
 },
 "nbformat": 4,
 "nbformat_minor": 5
}
